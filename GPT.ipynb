{
 "cells": [
  {
   "cell_type": "code",
   "execution_count": 63,
   "id": "1dad33ee",
   "metadata": {},
   "outputs": [],
   "source": [
    "import numpy as np\n",
    "import torch\n",
    "import torch.nn as nn\n",
    "from torch.nn import functional as F\n",
    "import matplotlib.pyplot as plt \n",
    "%matplotlib inline"
   ]
  },
  {
   "cell_type": "markdown",
   "id": "2524cd36",
   "metadata": {},
   "source": [
    "## Preparing Data"
   ]
  },
  {
   "cell_type": "code",
   "execution_count": null,
   "id": "d4003441",
   "metadata": {},
   "outputs": [],
   "source": [
    "with open('input.txt','r', encoding='utf-8') as f:\n",
    "    text = f.read()"
   ]
  },
  {
   "cell_type": "code",
   "execution_count": 15,
   "id": "23a47f13",
   "metadata": {},
   "outputs": [
    {
     "name": "stdout",
     "output_type": "stream",
     "text": [
      "First Citizen:\n",
      "Before we proceed any further, hear me speak.\n",
      "\n",
      "All:\n",
      "Speak, speak.\n",
      "\n",
      "First Citizen:\n",
      "You\n"
     ]
    }
   ],
   "source": [
    "print(text[:100])"
   ]
  },
  {
   "cell_type": "code",
   "execution_count": 12,
   "id": "c7cc21ab",
   "metadata": {},
   "outputs": [
    {
     "data": {
      "text/plain": [
       "1115394"
      ]
     },
     "execution_count": 12,
     "metadata": {},
     "output_type": "execute_result"
    }
   ],
   "source": [
    "len(text)"
   ]
  },
  {
   "cell_type": "code",
   "execution_count": 17,
   "id": "9d5a8f1f",
   "metadata": {},
   "outputs": [
    {
     "name": "stdout",
     "output_type": "stream",
     "text": [
      "\n",
      " !$&',-.3:;?ABCDEFGHIJKLMNOPQRSTUVWXYZabcdefghijklmnopqrstuvwxyz\n",
      "65\n"
     ]
    }
   ],
   "source": [
    "chars = sorted(list(set(text)))\n",
    "vocab_size = len(chars)\n",
    "print(''.join(chars))\n",
    "print(vocab_size)"
   ]
  },
  {
   "cell_type": "code",
   "execution_count": 26,
   "id": "bbce2fc9",
   "metadata": {},
   "outputs": [],
   "source": [
    "stoi = {s:i for i,s in enumerate(chars)}\n",
    "itos = {i:s for i,s in enumerate(chars)}\n",
    "encode = lambda s: [stoi[c] for c in s]\n",
    "decode = lambda l: ''.join([itos[i] for i in l])"
   ]
  },
  {
   "cell_type": "code",
   "execution_count": 29,
   "id": "d5fe2eca",
   "metadata": {},
   "outputs": [
    {
     "data": {
      "text/plain": [
       "'i love deep learning'"
      ]
     },
     "execution_count": 29,
     "metadata": {},
     "output_type": "execute_result"
    }
   ],
   "source": [
    "decode(encode('i love deep learning'))"
   ]
  },
  {
   "cell_type": "code",
   "execution_count": 31,
   "id": "4cebc327",
   "metadata": {},
   "outputs": [],
   "source": [
    "data = torch.tensor(encode(text),dtype=torch.long)"
   ]
  },
  {
   "cell_type": "code",
   "execution_count": 34,
   "id": "411e0f28",
   "metadata": {},
   "outputs": [
    {
     "data": {
      "text/plain": [
       "(1115394, torch.int64)"
      ]
     },
     "execution_count": 34,
     "metadata": {},
     "output_type": "execute_result"
    }
   ],
   "source": [
    "len(data), data.dtype"
   ]
  },
  {
   "cell_type": "code",
   "execution_count": 37,
   "id": "e7f15c92",
   "metadata": {},
   "outputs": [],
   "source": [
    "n = int(len(data)*0.9)\n",
    "train_data = data[:n]\n",
    "val_data = data[n:]"
   ]
  },
  {
   "cell_type": "code",
   "execution_count": 38,
   "id": "32954254",
   "metadata": {},
   "outputs": [],
   "source": [
    "torch.manual_seed(1337)\n",
    "batch_size = 4\n",
    "block_size = 8\n",
    "\n",
    "def get_batch(split):\n",
    "    data = train_data if split == 'train' else val_data\n",
    "    ix = torch.randint(len(data)-block_size,(batch_size,))\n",
    "    x = torch.stack([data[i:i+block_size] for i in ix])\n",
    "    y = torch.stack([data[i+1:i+block_size+1] for i in ix])\n",
    "    return x,y"
   ]
  },
  {
   "cell_type": "code",
   "execution_count": 140,
   "id": "6e293241",
   "metadata": {},
   "outputs": [
    {
     "name": "stdout",
     "output_type": "stream",
     "text": [
      "torch.Size([4, 8]) torch.Size([4, 8])\n",
      "[56] --> 41\n",
      "[56, 41] --> 46\n",
      "[56, 41, 46] --> 39\n",
      "[56, 41, 46, 39] --> 56\n",
      "[56, 41, 46, 39, 56] --> 45\n",
      "[56, 41, 46, 39, 56, 45] --> 43\n",
      "[56, 41, 46, 39, 56, 45, 43] --> 42\n",
      "[56, 41, 46, 39, 56, 45, 43, 42] --> 1\n",
      "[51] --> 54\n",
      "[51, 54] --> 43\n",
      "[51, 54, 43] --> 58\n",
      "[51, 54, 43, 58] --> 57\n",
      "[51, 54, 43, 58, 57] --> 1\n",
      "[51, 54, 43, 58, 57, 1] --> 58\n",
      "[51, 54, 43, 58, 57, 1, 58] --> 53\n",
      "[51, 54, 43, 58, 57, 1, 58, 53] --> 1\n"
     ]
    }
   ],
   "source": [
    "xb,yb = get_batch('train')\n",
    "print(xb.shape,yb.shape)\n",
    "for i in range(batch_size-2):\n",
    "    for j in range(block_size):\n",
    "        print(xb[i,:j+1].tolist(),'-->',yb[i,j].item())"
   ]
  },
  {
   "cell_type": "markdown",
   "id": "7ccb1643",
   "metadata": {},
   "source": [
    "## Bigram Language Model"
   ]
  },
  {
   "cell_type": "code",
   "execution_count": 144,
   "id": "6c3c360a",
   "metadata": {},
   "outputs": [],
   "source": [
    "torch.manual_seed(1337)\n",
    "\n",
    "class BigramLanguageModel(nn.Module):\n",
    "    def __init__(self,vocab_size):\n",
    "        super().__init__()\n",
    "        self.token_embedding_table = nn.Embedding(vocab_size,vocab_size)\n",
    "        \n",
    "    def forward(self,idx,targets =None):\n",
    "        logits = self.token_embedding_table(idx) # B,T,C\n",
    "        if targets is None:\n",
    "            loss = None\n",
    "        else:\n",
    "            B,T,C = logits.shape\n",
    "            logits = logits.view(B*T,C)\n",
    "            targets = targets.view(B*T)\n",
    "            loss = F.cross_entropy(logits,targets)\n",
    "        return logits, loss\n",
    "    \n",
    "    def generate(self,idx,max_new_token):\n",
    "        for _ in range(max_new_token):\n",
    "            logits,_ = self(idx)\n",
    "            logits =logits[:,-1,:] # B,C\n",
    "            probs = F.softmax(logits,dim=-1)\n",
    "            idx_next = torch.multinomial(probs,num_samples=1)\n",
    "            idx = torch.cat((idx,idx_next),dim=1)\n",
    "        return idx\n",
    "            "
   ]
  },
  {
   "cell_type": "code",
   "execution_count": 155,
   "id": "470d7730",
   "metadata": {},
   "outputs": [],
   "source": [
    "m = BigramLanguageModel(vocab_size)"
   ]
  },
  {
   "cell_type": "code",
   "execution_count": 156,
   "id": "1d8d28d9",
   "metadata": {},
   "outputs": [],
   "source": [
    "optimizor = torch.optim.AdamW(m.parameters(),lr=1e-3)"
   ]
  },
  {
   "cell_type": "code",
   "execution_count": 157,
   "id": "0127fe07",
   "metadata": {},
   "outputs": [
    {
     "name": "stdout",
     "output_type": "stream",
     "text": [
      "4.663458824157715\n",
      "3.666710376739502\n",
      "3.162177324295044\n",
      "2.834440231323242\n",
      "2.7264578342437744\n",
      "2.584068536758423\n",
      "2.597648859024048\n",
      "2.396040201187134\n"
     ]
    }
   ],
   "source": [
    "batch_size = 32\n",
    "for i in range(8000):\n",
    "    xb,yb = get_batch('train')\n",
    "    logits,loss = m(xb,yb)\n",
    "    optimizor.zero_grad(set_to_none=True)\n",
    "    loss.backward()\n",
    "    optimizor.step()\n",
    "    if i%1000==0:\n",
    "        print(loss.item())"
   ]
  },
  {
   "cell_type": "code",
   "execution_count": 158,
   "id": "4307cc26",
   "metadata": {},
   "outputs": [
    {
     "name": "stdout",
     "output_type": "stream",
     "text": [
      "\n",
      "I and wise jueatoure bl;IO imbthime ad ul:\n",
      "Ay n pr buesy eiste\n",
      "HNULICl thelstatro saw mis h id ho d,\n",
      "Ant blore CENICLIDUSAnchindlly l fe dere sop,\n",
      "Wilinejurinta f byo, athe\n",
      "GI hishe Cnod wim! thin the\n"
     ]
    }
   ],
   "source": [
    "idx = torch.zeros((1,1),dtype=torch.long)\n",
    "print(decode(m.generate(idx,200)[0].tolist()))"
   ]
  },
  {
   "cell_type": "code",
   "execution_count": null,
   "id": "c3297362",
   "metadata": {},
   "outputs": [],
   "source": []
  }
 ],
 "metadata": {
  "kernelspec": {
   "display_name": "Python 3 (ipykernel)",
   "language": "python",
   "name": "python3"
  },
  "language_info": {
   "codemirror_mode": {
    "name": "ipython",
    "version": 3
   },
   "file_extension": ".py",
   "mimetype": "text/x-python",
   "name": "python",
   "nbconvert_exporter": "python",
   "pygments_lexer": "ipython3",
   "version": "3.11.5"
  }
 },
 "nbformat": 4,
 "nbformat_minor": 5
}
